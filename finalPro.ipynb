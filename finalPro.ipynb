{
 "cells": [
  {
   "cell_type": "code",
   "execution_count": 77,
   "metadata": {},
   "outputs": [
    {
     "name": "stdout",
     "output_type": "stream",
     "text": [
      "   Row ID        Order ID  Order Date   Ship Date       Ship Mode Customer ID  \\\n",
      "0       1  CA-2017-152156  08/11/2017  11/11/2017    Second Class    CG-12520   \n",
      "1       2  CA-2017-152156  08/11/2017  11/11/2017    Second Class    CG-12520   \n",
      "2       3  CA-2017-138688  12/06/2017  16/06/2017    Second Class    DV-13045   \n",
      "3       4  US-2016-108966  11/10/2016  18/10/2016  Standard Class    SO-20335   \n",
      "4       5  US-2016-108966  11/10/2016  18/10/2016  Standard Class    SO-20335   \n",
      "\n",
      "     Customer Name    Segment        Country             City       State  \\\n",
      "0      Claire Gute   Consumer  United States        Henderson    Kentucky   \n",
      "1      Claire Gute   Consumer  United States        Henderson    Kentucky   \n",
      "2  Darrin Van Huff  Corporate  United States      Los Angeles  California   \n",
      "3   Sean O'Donnell   Consumer  United States  Fort Lauderdale     Florida   \n",
      "4   Sean O'Donnell   Consumer  United States  Fort Lauderdale     Florida   \n",
      "\n",
      "   Postal Code Region       Product ID         Category Sub-Category  \\\n",
      "0      42420.0  South  FUR-BO-10001798        Furniture    Bookcases   \n",
      "1      42420.0  South  FUR-CH-10000454        Furniture       Chairs   \n",
      "2      90036.0   West  OFF-LA-10000240  Office Supplies       Labels   \n",
      "3      33311.0  South  FUR-TA-10000577        Furniture       Tables   \n",
      "4      33311.0  South  OFF-ST-10000760  Office Supplies      Storage   \n",
      "\n",
      "                                        Product Name     Sales  \n",
      "0                  Bush Somerset Collection Bookcase  261.9600  \n",
      "1  Hon Deluxe Fabric Upholstered Stacking Chairs,...  731.9400  \n",
      "2  Self-Adhesive Address Labels for Typewriters b...   14.6200  \n",
      "3      Bretford CR4500 Series Slim Rectangular Table  957.5775  \n",
      "4                     Eldon Fold 'N Roll Cart System   22.3680  \n"
     ]
    }
   ],
   "source": [
    "import pandas as pd\n",
    "data = pd.read_csv(r\"D:\\download folder\\Superstore Sales Dataset.csv\")\n",
    "# Prints the first 5 rows\n",
    "print(data.head())"
   ]
  },
  {
   "cell_type": "code",
   "execution_count": 78,
   "metadata": {},
   "outputs": [
    {
     "name": "stdout",
     "output_type": "stream",
     "text": [
      "      Row ID        Order ID  Order Date   Ship Date       Ship Mode  \\\n",
      "9795    9796  CA-2017-125920  21/05/2017  28/05/2017  Standard Class   \n",
      "9796    9797  CA-2016-128608  12/01/2016  17/01/2016  Standard Class   \n",
      "9797    9798  CA-2016-128608  12/01/2016  17/01/2016  Standard Class   \n",
      "9798    9799  CA-2016-128608  12/01/2016  17/01/2016  Standard Class   \n",
      "9799    9800  CA-2016-128608  12/01/2016  17/01/2016  Standard Class   \n",
      "\n",
      "     Customer ID     Customer Name    Segment        Country     City  \\\n",
      "9795    SH-19975     Sally Hughsby  Corporate  United States  Chicago   \n",
      "9796    CS-12490  Cindy Schnelling  Corporate  United States   Toledo   \n",
      "9797    CS-12490  Cindy Schnelling  Corporate  United States   Toledo   \n",
      "9798    CS-12490  Cindy Schnelling  Corporate  United States   Toledo   \n",
      "9799    CS-12490  Cindy Schnelling  Corporate  United States   Toledo   \n",
      "\n",
      "         State  Postal Code   Region       Product ID         Category  \\\n",
      "9795  Illinois      60610.0  Central  OFF-BI-10003429  Office Supplies   \n",
      "9796      Ohio      43615.0     East  OFF-AR-10001374  Office Supplies   \n",
      "9797      Ohio      43615.0     East  TEC-PH-10004977       Technology   \n",
      "9798      Ohio      43615.0     East  TEC-PH-10000912       Technology   \n",
      "9799      Ohio      43615.0     East  TEC-AC-10000487       Technology   \n",
      "\n",
      "     Sub-Category                                       Product Name    Sales  \n",
      "9795      Binders  Cardinal HOLDit! Binder Insert Strips,Extra St...    3.798  \n",
      "9796          Art           BIC Brite Liner Highlighters, Chisel Tip   10.368  \n",
      "9797       Phones                                        GE 30524EE4  235.188  \n",
      "9798       Phones           Anker 24W Portable Micro USB Car Charger   26.376  \n",
      "9799  Accessories                SanDisk Cruzer 4 GB USB Flash Drive   10.384  \n"
     ]
    }
   ],
   "source": [
    "print(data.tail())"
   ]
  },
  {
   "cell_type": "code",
   "execution_count": 79,
   "metadata": {},
   "outputs": [
    {
     "data": {
      "text/plain": [
       "(9800, 18)"
      ]
     },
     "execution_count": 79,
     "metadata": {},
     "output_type": "execute_result"
    }
   ],
   "source": [
    "data.shape"
   ]
  },
  {
   "cell_type": "code",
   "execution_count": 80,
   "metadata": {},
   "outputs": [
    {
     "name": "stdout",
     "output_type": "stream",
     "text": [
      "<class 'pandas.core.frame.DataFrame'>\n",
      "RangeIndex: 9800 entries, 0 to 9799\n",
      "Data columns (total 18 columns):\n",
      " #   Column         Non-Null Count  Dtype  \n",
      "---  ------         --------------  -----  \n",
      " 0   Row ID         9800 non-null   int64  \n",
      " 1   Order ID       9800 non-null   object \n",
      " 2   Order Date     9800 non-null   object \n",
      " 3   Ship Date      9800 non-null   object \n",
      " 4   Ship Mode      9800 non-null   object \n",
      " 5   Customer ID    9800 non-null   object \n",
      " 6   Customer Name  9800 non-null   object \n",
      " 7   Segment        9800 non-null   object \n",
      " 8   Country        9800 non-null   object \n",
      " 9   City           9800 non-null   object \n",
      " 10  State          9800 non-null   object \n",
      " 11  Postal Code    9789 non-null   float64\n",
      " 12  Region         9800 non-null   object \n",
      " 13  Product ID     9800 non-null   object \n",
      " 14  Category       9800 non-null   object \n",
      " 15  Sub-Category   9800 non-null   object \n",
      " 16  Product Name   9800 non-null   object \n",
      " 17  Sales          9800 non-null   float64\n",
      "dtypes: float64(2), int64(1), object(15)\n",
      "memory usage: 1.3+ MB\n",
      "None\n"
     ]
    }
   ],
   "source": [
    "# to know info as ColName - dataTypes - count Non-Null \n",
    "print(data.info())"
   ]
  },
  {
   "cell_type": "code",
   "execution_count": 81,
   "metadata": {},
   "outputs": [
    {
     "name": "stdout",
     "output_type": "stream",
     "text": [
      "            Row ID   Postal Code         Sales\n",
      "count  9800.000000   9789.000000   9800.000000\n",
      "mean   4900.500000  55273.322403    230.769059\n",
      "std    2829.160653  32041.223413    626.651875\n",
      "min       1.000000   1040.000000      0.444000\n",
      "25%    2450.750000  23223.000000     17.248000\n",
      "50%    4900.500000  58103.000000     54.490000\n",
      "75%    7350.250000  90008.000000    210.605000\n",
      "max    9800.000000  99301.000000  22638.480000\n"
     ]
    }
   ],
   "source": [
    "# describe the numeric var\n",
    "print(data.describe())"
   ]
  },
  {
   "cell_type": "code",
   "execution_count": 82,
   "metadata": {},
   "outputs": [
    {
     "name": "stdout",
     "output_type": "stream",
     "text": [
      "              Order ID  Order Date   Ship Date       Ship Mode Customer ID  \\\n",
      "count             9800        9800        9800            9800        9800   \n",
      "unique            4922        1230        1326               4         793   \n",
      "top     CA-2018-100111  05/09/2017  26/09/2018  Standard Class    WB-21850   \n",
      "freq                14          38          34            5859          35   \n",
      "\n",
      "        Customer Name   Segment        Country           City       State  \\\n",
      "count            9800      9800           9800           9800        9800   \n",
      "unique            793         3              1            529          49   \n",
      "top     William Brown  Consumer  United States  New York City  California   \n",
      "freq               35      5101           9800            891        1946   \n",
      "\n",
      "       Region       Product ID         Category Sub-Category     Product Name  \n",
      "count    9800             9800             9800         9800             9800  \n",
      "unique      4             1861                3           17             1849  \n",
      "top      West  OFF-PA-10001970  Office Supplies      Binders  Staple envelope  \n",
      "freq     3140               19             5909         1492               47  \n"
     ]
    }
   ],
   "source": [
    "# describe not numeric var\n",
    "print(data.describe(include = \"object\"))"
   ]
  },
  {
   "cell_type": "code",
   "execution_count": 83,
   "metadata": {},
   "outputs": [
    {
     "name": "stdout",
     "output_type": "stream",
     "text": [
      "      Row ID  Order ID  Order Date  Ship Date  Ship Mode  Customer ID  \\\n",
      "0      False     False       False      False      False        False   \n",
      "1      False     False       False      False      False        False   \n",
      "2      False     False       False      False      False        False   \n",
      "3      False     False       False      False      False        False   \n",
      "4      False     False       False      False      False        False   \n",
      "...      ...       ...         ...        ...        ...          ...   \n",
      "9795   False     False       False      False      False        False   \n",
      "9796   False     False       False      False      False        False   \n",
      "9797   False     False       False      False      False        False   \n",
      "9798   False     False       False      False      False        False   \n",
      "9799   False     False       False      False      False        False   \n",
      "\n",
      "      Customer Name  Segment  Country   City  State  Postal Code  Region  \\\n",
      "0             False    False    False  False  False        False   False   \n",
      "1             False    False    False  False  False        False   False   \n",
      "2             False    False    False  False  False        False   False   \n",
      "3             False    False    False  False  False        False   False   \n",
      "4             False    False    False  False  False        False   False   \n",
      "...             ...      ...      ...    ...    ...          ...     ...   \n",
      "9795          False    False    False  False  False        False   False   \n",
      "9796          False    False    False  False  False        False   False   \n",
      "9797          False    False    False  False  False        False   False   \n",
      "9798          False    False    False  False  False        False   False   \n",
      "9799          False    False    False  False  False        False   False   \n",
      "\n",
      "      Product ID  Category  Sub-Category  Product Name  Sales  \n",
      "0          False     False         False         False  False  \n",
      "1          False     False         False         False  False  \n",
      "2          False     False         False         False  False  \n",
      "3          False     False         False         False  False  \n",
      "4          False     False         False         False  False  \n",
      "...          ...       ...           ...           ...    ...  \n",
      "9795       False     False         False         False  False  \n",
      "9796       False     False         False         False  False  \n",
      "9797       False     False         False         False  False  \n",
      "9798       False     False         False         False  False  \n",
      "9799       False     False         False         False  False  \n",
      "\n",
      "[9800 rows x 18 columns]\n"
     ]
    }
   ],
   "source": [
    "# Found NULL or not\n",
    "print(data.isnull())"
   ]
  },
  {
   "cell_type": "code",
   "execution_count": 84,
   "metadata": {},
   "outputs": [
    {
     "name": "stdout",
     "output_type": "stream",
     "text": [
      "Row ID            0\n",
      "Order ID          0\n",
      "Order Date        0\n",
      "Ship Date         0\n",
      "Ship Mode         0\n",
      "Customer ID       0\n",
      "Customer Name     0\n",
      "Segment           0\n",
      "Country           0\n",
      "City              0\n",
      "State             0\n",
      "Postal Code      11\n",
      "Region            0\n",
      "Product ID        0\n",
      "Category          0\n",
      "Sub-Category      0\n",
      "Product Name      0\n",
      "Sales             0\n",
      "dtype: int64\n"
     ]
    }
   ],
   "source": [
    "# count NULL val\n",
    "missingValue=data.isnull().sum() \n",
    "print(missingValue)"
   ]
  },
  {
   "cell_type": "code",
   "execution_count": 85,
   "metadata": {},
   "outputs": [
    {
     "name": "stdout",
     "output_type": "stream",
     "text": [
      "2234    1\n",
      "5274    1\n",
      "8798    1\n",
      "9146    1\n",
      "9147    1\n",
      "       ..\n",
      "9779    0\n",
      "9780    0\n",
      "9781    0\n",
      "9782    0\n",
      "1       0\n",
      "Length: 9800, dtype: int64\n"
     ]
    }
   ],
   "source": [
    "# NULLs in Rows to know what to delete or not\n",
    "print(data.isnull().sum(axis=1).sort_values(ascending=False))"
   ]
  },
  {
   "cell_type": "code",
   "execution_count": 86,
   "metadata": {},
   "outputs": [
    {
     "name": "stdout",
     "output_type": "stream",
     "text": [
      "Row ID           9800\n",
      "Order ID         4922\n",
      "Order Date       1230\n",
      "Ship Date        1326\n",
      "Ship Mode           4\n",
      "Customer ID       793\n",
      "Customer Name     793\n",
      "Segment             3\n",
      "Country             1\n",
      "City              529\n",
      "State              49\n",
      "Postal Code       626\n",
      "Region              4\n",
      "Product ID       1861\n",
      "Category            3\n",
      "Sub-Category       17\n",
      "Product Name     1849\n",
      "Sales            5757\n",
      "dtype: int64\n"
     ]
    }
   ],
   "source": [
    "# number of unique values ​​in each column\n",
    "print(data.nunique())"
   ]
  },
  {
   "cell_type": "code",
   "execution_count": 87,
   "metadata": {},
   "outputs": [
    {
     "name": "stdout",
     "output_type": "stream",
     "text": [
      "False\n"
     ]
    }
   ],
   "source": [
    "# Found Duplicated or not\n",
    "print(data.duplicated().any())"
   ]
  },
  {
   "cell_type": "code",
   "execution_count": 88,
   "metadata": {},
   "outputs": [],
   "source": [
    "import matplotlib.pyplot as plt\n",
    "import seaborn as sns"
   ]
  },
  {
   "cell_type": "code",
   "execution_count": 89,
   "metadata": {},
   "outputs": [
    {
     "data": {
      "image/png": "[encoded data removed]",
      "text/plain": [
       "<Figure size 640x480 with 1 Axes>"
      ]
     },
     "metadata": {},
     "output_type": "display_data"
    }
   ],
   "source": [
    "sns.boxplot(x=data[\"Sales\"])\n",
    "plt.show()"
   ]
  },
  {
   "cell_type": "code",
   "execution_count": 90,
   "metadata": {},
   "outputs": [
    {
     "data": {
      "image/png": "[encoded data removed]",
      "text/plain": [
       "<Figure size 640x480 with 1 Axes>"
      ]
     },
     "metadata": {},
     "output_type": "display_data"
    }
   ],
   "source": [
    "data[\"Sales\"].hist(bins=50, color=\"white\", edgecolor=\"black\")\n",
    "plt.show()"
   ]
  },
  {
   "cell_type": "code",
   "execution_count": 91,
   "metadata": {},
   "outputs": [
    {
     "data": {
      "image/png": "[encoded data removed]",
      "text/plain": [
       "<Figure size 1000x500 with 1 Axes>"
      ]
     },
     "metadata": {},
     "output_type": "display_data"
    }
   ],
   "source": [
    "import seaborn as sns\n",
    "import matplotlib.pyplot as plt\n",
    "\n",
    "region_sales = data.groupby(\"Region\")[\"Sales\"].sum().reset_index()\n",
    "\n",
    "plt.figure(figsize=(10, 5))\n",
    "sns.barplot(x=\"Sales\", y=\"Region\", data=region_sales, color=\"black\")\n",
    "\n",
    "plt.xlabel(\"Total Sales\", color=\"black\")\n",
    "plt.ylabel(\"Region\", color=\"white\")\n",
    "plt.title(\"Total Sales per Region\", color=\"black\")\n",
    "plt.xticks(color=\"black\")\n",
    "plt.yticks(color=\"black\")\n",
    "plt.gca().set_facecolor(\"white\") \n",
    "plt.show()\n"
   ]
  },
  {
   "cell_type": "markdown",
   "metadata": {},
   "source": [
    "# 🔍 Download and process Superstore data\n",
    "## In this section, we will load and clean data to create a **Star Schema** data model"
   ]
  },
  {
   "cell_type": "code",
   "execution_count": 92,
   "metadata": {},
   "outputs": [
    {
     "name": "stderr",
     "output_type": "stream",
     "text": [
      "C:\\Users\\laptop store\\AppData\\Local\\Temp\\ipykernel_20580\\651603714.py:11: FutureWarning: A value is trying to be set on a copy of a DataFrame or Series through chained assignment using an inplace method.\n",
      "The behavior will change in pandas 3.0. This inplace method will never work because the intermediate object on which we are setting values always behaves as a copy.\n",
      "\n",
      "For example, when doing 'df[col].method(value, inplace=True)', try using 'df.method({col: value}, inplace=True)' or df[col] = df[col].method(value) instead, to perform the operation inplace on the original object.\n",
      "\n",
      "\n",
      "  country_details[\"Postal Code\"].fillna(0, inplace=True)  # Replace missing Postal Code with 0\n"
     ]
    }
   ],
   "source": [
    "df = data.drop_duplicates()\n",
    "\n",
    "# Fact Table (Fact_Table)\n",
    "fact_table = df[[\"Row ID\", \"Postal Code\", \"Product ID\", \"Customer ID\", \"Order ID\", \"Order Date\", \"Sales\", \"Ship Date\"]]\n",
    "\n",
    "# Customer Table (Customer_Detail)\n",
    "customer_detail = df[[\"Customer Name\", \"Customer ID\", \"Segment\"]].drop_duplicates()\n",
    "\n",
    "# Country Table (Country_Details)\n",
    "country_details = df[[\"City\", \"Country\", \"Postal Code\", \"Region\", \"State\"]].drop_duplicates()\n",
    "country_details[\"Postal Code\"].fillna(0, inplace=True)  # Replace missing Postal Code with 0\n",
    "\n",
    "# Product Table (Product_Dim)\n",
    "product_dim = df[[\"Product Name\", \"Sub-Category\", \"Category\", \"Product ID\"]].drop_duplicates()\n"
   ]
  },
  {
   "cell_type": "code",
   "execution_count": 93,
   "metadata": {},
   "outputs": [
    {
     "data": {
      "text/plain": [
       "(9800, 8)"
      ]
     },
     "execution_count": 93,
     "metadata": {},
     "output_type": "execute_result"
    }
   ],
   "source": [
    "fact_table.shape"
   ]
  },
  {
   "cell_type": "code",
   "execution_count": 94,
   "metadata": {},
   "outputs": [
    {
     "data": {
      "text/plain": [
       "(1893, 4)"
      ]
     },
     "execution_count": 94,
     "metadata": {},
     "output_type": "execute_result"
    }
   ],
   "source": [
    "product_dim.shape"
   ]
  },
  {
   "cell_type": "code",
   "execution_count": 96,
   "metadata": {},
   "outputs": [
    {
     "data": {
      "text/plain": [
       "(628, 5)"
      ]
     },
     "execution_count": 96,
     "metadata": {},
     "output_type": "execute_result"
    }
   ],
   "source": [
    "country_details.shape"
   ]
  },
  {
   "cell_type": "code",
   "execution_count": 98,
   "metadata": {},
   "outputs": [
    {
     "data": {
      "text/plain": [
       "(793, 3)"
      ]
     },
     "execution_count": 98,
     "metadata": {},
     "output_type": "execute_result"
    }
   ],
   "source": [
    "customer_detail.shape"
   ]
  },
  {
   "cell_type": "code",
   "execution_count": 102,
   "metadata": {},
   "outputs": [],
   "source": [
    "# Save each table as a CSV file\n",
    "fact_table.to_csv(\"Fact_Table.csv\", index=False)\n",
    "customer_detail.to_csv(\"Customer_Detail.csv\", index=False)\n",
    "country_details.to_csv(\"Country_Details.csv\", index=False)\n",
    "product_dim.to_csv(\"Product_Dim.csv\", index=False)"
   ]
  },
  {
   "cell_type": "markdown",
   "metadata": {},
   "source": [
    "## After Saving"
   ]
  },
  {
   "cell_type": "code",
   "execution_count": null,
   "metadata": {},
   "outputs": [
    {
     "name": "stdout",
     "output_type": "stream",
     "text": [
      "Num of Unique Costomer: 793\n",
      "count     9800.000000\n",
      "mean       230.769059\n",
      "std        626.651875\n",
      "min          0.444000\n",
      "25%         17.248000\n",
      "50%         54.490000\n",
      "75%        210.605000\n",
      "max      22638.480000\n",
      "Name: Sales, dtype: float64\n"
     ]
    }
   ],
   "source": [
    "# Num of Unique Costomer\n",
    "print(f\"Num of Unique Costomer: {customer_detail['Customer ID'].nunique()}\")\n",
    "\n",
    "print(df[\"Sales\"].describe())\n"
   ]
  },
  {
   "cell_type": "code",
   "execution_count": 110,
   "metadata": {},
   "outputs": [
    {
     "data": {
      "image/png": "[encoded data removed]",
      "text/plain": [
       "<Figure size 1000x500 with 1 Axes>"
      ]
     },
     "metadata": {},
     "output_type": "display_data"
    }
   ],
   "source": [
    "import seaborn as sns\n",
    "\n",
    "plt.figure(figsize=(10, 5))\n",
    "sns.barplot(x=\"Region\", y=\"Sales\", data=region_sales, color=\"black\")\n",
    "\n",
    "for index, value in enumerate(region_sales[\"Sales\"]):\n",
    "    plt.text(index, value + 1000, str(int(value)), ha='center', color=\"black\")\n",
    "\n",
    "plt.xlabel(\"Region\", color=\"black\")\n",
    "plt.ylabel(\"Total Sales\", color=\"black\")\n",
    "plt.title(\"Total Sales per Region\", color=\"black\")\n",
    "plt.xticks(color=\"black\")\n",
    "plt.yticks(color=\"black\")\n",
    "plt.gca().set_facecolor(\"white\")  \n",
    "plt.show()\n"
   ]
  },
  {
   "cell_type": "code",
   "execution_count": 111,
   "metadata": {},
   "outputs": [
    {
     "name": "stdout",
     "output_type": "stream",
     "text": [
      "   Row ID  Postal Code       Product ID Customer ID        Order ID  \\\n",
      "0       1      42420.0  FUR-BO-10001798    CG-12520  CA-2017-152156   \n",
      "1       2      42420.0  FUR-CH-10000454    CG-12520  CA-2017-152156   \n",
      "2       3      90036.0  OFF-LA-10000240    DV-13045  CA-2017-138688   \n",
      "3       4      33311.0  FUR-TA-10000577    SO-20335  US-2016-108966   \n",
      "4       5      33311.0  OFF-ST-10000760    SO-20335  US-2016-108966   \n",
      "\n",
      "   Order Date     Sales   Ship Date  \n",
      "0  08/11/2017  261.9600  11/11/2017  \n",
      "1  08/11/2017  731.9400  11/11/2017  \n",
      "2  12/06/2017   14.6200  16/06/2017  \n",
      "3  11/10/2016  957.5775  18/10/2016  \n",
      "4  11/10/2016   22.3680  18/10/2016  \n"
     ]
    }
   ],
   "source": [
    "test_df = pd.read_csv(\"Fact_Table.csv\")\n",
    "print(test_df.head())"
   ]
  },
  {
   "cell_type": "code",
   "execution_count": null,
   "metadata": {},
   "outputs": [],
   "source": []
  }
 ],
 "metadata": {
  "kernelspec": {
   "display_name": "Python 3",
   "language": "python",
   "name": "python3"
  },
  "language_info": {
   "codemirror_mode": {
    "name": "ipython",
    "version": 3
   },
   "file_extension": ".py",
   "mimetype": "text/x-python",
   "name": "python",
   "nbconvert_exporter": "python",
   "pygments_lexer": "ipython3",
   "version": "3.12.1"
  }
 },
 "nbformat": 4,
 "nbformat_minor": 2
}
